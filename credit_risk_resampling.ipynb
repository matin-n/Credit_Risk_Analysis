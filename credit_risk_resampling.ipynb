{
 "cells": [
  {
   "cell_type": "markdown",
   "metadata": {
    "id": "MTT57K6X_5FH"
   },
   "source": [
    "# Credit Risk Resampling Techniques"
   ]
  },
  {
   "cell_type": "markdown",
   "source": [
    "## Imports"
   ],
   "metadata": {
    "collapsed": false
   }
  },
  {
   "cell_type": "code",
   "execution_count": 1,
   "metadata": {
    "id": "dOJ37qcj_5FJ"
   },
   "outputs": [],
   "source": [
    "import warnings\n",
    "\n",
    "warnings.filterwarnings(\"ignore\")\n",
    "\n",
    "import pandas as pd\n",
    "from collections import Counter\n",
    "from pathlib import Path\n",
    "\n",
    "from sklearn.model_selection import train_test_split\n",
    "from sklearn.linear_model import LogisticRegression\n",
    "from sklearn.metrics import balanced_accuracy_score\n",
    "from sklearn.metrics import confusion_matrix\n",
    "from imblearn.metrics import classification_report_imbalanced\n",
    "from imblearn.over_sampling import RandomOverSampler\n",
    "from imblearn.over_sampling import SMOTE\n",
    "from imblearn.under_sampling import ClusterCentroids\n",
    "from imblearn.combine import SMOTEENN"
   ]
  },
  {
   "cell_type": "markdown",
   "metadata": {
    "id": "COdE4DjS_5FK"
   },
   "source": [
    "# Read the CSV and Perform Basic Data Cleaning"
   ]
  },
  {
   "cell_type": "code",
   "execution_count": 2,
   "metadata": {
    "id": "_ypglsTx_5FL"
   },
   "outputs": [],
   "source": [
    "cols = [\n",
    "    \"loan_amnt\",\n",
    "    \"int_rate\",\n",
    "    \"installment\",\n",
    "    \"home_ownership\",\n",
    "    \"annual_inc\",\n",
    "    \"verification_status\",\n",
    "    \"issue_d\",\n",
    "    \"loan_status\",\n",
    "    \"pymnt_plan\",\n",
    "    \"dti\",\n",
    "    \"delinq_2yrs\",\n",
    "    \"inq_last_6mths\",\n",
    "    \"open_acc\",\n",
    "    \"pub_rec\",\n",
    "    \"revol_bal\",\n",
    "    \"total_acc\",\n",
    "    \"initial_list_status\",\n",
    "    \"out_prncp\",\n",
    "    \"out_prncp_inv\",\n",
    "    \"total_pymnt\",\n",
    "    \"total_pymnt_inv\",\n",
    "    \"total_rec_prncp\",\n",
    "    \"total_rec_int\",\n",
    "    \"total_rec_late_fee\",\n",
    "    \"recoveries\",\n",
    "    \"collection_recovery_fee\",\n",
    "    \"last_pymnt_amnt\",\n",
    "    \"next_pymnt_d\",\n",
    "    \"collections_12_mths_ex_med\",\n",
    "    \"policy_code\",\n",
    "    \"application_type\",\n",
    "    \"acc_now_delinq\",\n",
    "    \"tot_coll_amt\",\n",
    "    \"tot_cur_bal\",\n",
    "    \"open_acc_6m\",\n",
    "    \"open_act_il\",\n",
    "    \"open_il_12m\",\n",
    "    \"open_il_24m\",\n",
    "    \"mths_since_rcnt_il\",\n",
    "    \"total_bal_il\",\n",
    "    \"il_util\",\n",
    "    \"open_rv_12m\",\n",
    "    \"open_rv_24m\",\n",
    "    \"max_bal_bc\",\n",
    "    \"all_util\",\n",
    "    \"total_rev_hi_lim\",\n",
    "    \"inq_fi\",\n",
    "    \"total_cu_tl\",\n",
    "    \"inq_last_12m\",\n",
    "    \"acc_open_past_24mths\",\n",
    "    \"avg_cur_bal\",\n",
    "    \"bc_open_to_buy\",\n",
    "    \"bc_util\",\n",
    "    \"chargeoff_within_12_mths\",\n",
    "    \"delinq_amnt\",\n",
    "    \"mo_sin_old_il_acct\",\n",
    "    \"mo_sin_old_rev_tl_op\",\n",
    "    \"mo_sin_rcnt_rev_tl_op\",\n",
    "    \"mo_sin_rcnt_tl\",\n",
    "    \"mort_acc\",\n",
    "    \"mths_since_recent_bc\",\n",
    "    \"mths_since_recent_inq\",\n",
    "    \"num_accts_ever_120_pd\",\n",
    "    \"num_actv_bc_tl\",\n",
    "    \"num_actv_rev_tl\",\n",
    "    \"num_bc_sats\",\n",
    "    \"num_bc_tl\",\n",
    "    \"num_il_tl\",\n",
    "    \"num_op_rev_tl\",\n",
    "    \"num_rev_accts\",\n",
    "    \"num_rev_tl_bal_gt_0\",\n",
    "    \"num_sats\",\n",
    "    \"num_tl_120dpd_2m\",\n",
    "    \"num_tl_30dpd\",\n",
    "    \"num_tl_90g_dpd_24m\",\n",
    "    \"num_tl_op_past_12m\",\n",
    "    \"pct_tl_nvr_dlq\",\n",
    "    \"percent_bc_gt_75\",\n",
    "    \"pub_rec_bankruptcies\",\n",
    "    \"tax_liens\",\n",
    "    \"tot_hi_cred_lim\",\n",
    "    \"total_bal_ex_mort\",\n",
    "    \"total_bc_limit\",\n",
    "    \"total_il_high_credit_limit\",\n",
    "    \"hardship_flag\",\n",
    "    \"debt_settlement_flag\",\n",
    "]\n",
    "\n",
    "target = \"loan_status\""
   ]
  },
  {
   "cell_type": "markdown",
   "source": [
    "## Cleaning of Data"
   ],
   "metadata": {
    "collapsed": false
   }
  },
  {
   "cell_type": "code",
   "execution_count": 3,
   "metadata": {
    "id": "yH1myWO4_5FM"
   },
   "outputs": [],
   "source": [
    "# Load the data\n",
    "file_path = Path(\"Resources/LoanStats_2019Q1.csv\")\n",
    "df = pd.read_csv(file_path, skiprows=1, usecols=cols)[:-2]\n",
    "\n",
    "# Drop the null columns where all values are null\n",
    "df.dropna(inplace=True, axis=1, how=\"all\")\n",
    "\n",
    "# Drop the null rows\n",
    "df.dropna(\n",
    "    inplace=True, axis=0, how=\"any\"\n",
    ")  # TODO: Evaluate which rows are being dropped\n",
    "\n",
    "# Remove the `Issued` loan status rows\n",
    "df = df.loc[df[target] != \"Issued\"].copy(deep=True)\n",
    "\n",
    "# Convert interest rate to numerical\n",
    "df[\"int_rate\"] = df[\"int_rate\"].str.replace(\"%\", \"\").astype(\"float\") / 100\n",
    "\n",
    "# Convert the target column values to low_risk and high_risk based on their values\n",
    "df[target] = df[target].str.replace(\"Current\", \"low_risk\")\n",
    "\n",
    "high_risk_pattern = [\n",
    "    \"Late (31-120 days)\",\n",
    "    \"Late (16-30 days)\",\n",
    "    \"Default\",\n",
    "    \"In Grace Period\",\n",
    "]\n",
    "df[target] = df[target].replace(high_risk_pattern, \"high_risk\")\n",
    "# print(df.loan_status.unique()) # check to see if only low_risk and high_risk exist\n",
    "\n",
    "# Reset index\n",
    "df.reset_index(inplace=True, drop=True)"
   ]
  },
  {
   "cell_type": "markdown",
   "metadata": {
    "id": "E5Tag9kAj1mI"
   },
   "source": [
    "## Evaluate Categorical Values"
   ]
  },
  {
   "cell_type": "code",
   "execution_count": 4,
   "metadata": {
    "colab": {
     "base_uri": "https://localhost:8080/"
    },
    "id": "ObPpLTyBj5_R",
    "outputId": "0d525825-cbfc-4a34-ed0e-efe7434ce206"
   },
   "outputs": [
    {
     "data": {
      "text/plain": "float64    76\nobject     10\ndtype: int64"
     },
     "execution_count": 4,
     "metadata": {},
     "output_type": "execute_result"
    }
   ],
   "source": [
    "# pandas.get_dummies encodes dtype of `object` or `category`\n",
    "# check dtypes of data\n",
    "df.dtypes.value_counts()"
   ]
  },
  {
   "cell_type": "code",
   "execution_count": 5,
   "metadata": {
    "colab": {
     "base_uri": "https://localhost:8080/"
    },
    "id": "nJEtbVzqmJDa",
    "outputId": "25932314-2bd0-4c97-ffd4-2e1e95f0aa4a"
   },
   "outputs": [
    {
     "data": {
      "text/plain": "['home_ownership',\n 'verification_status',\n 'issue_d',\n 'loan_status',\n 'pymnt_plan',\n 'initial_list_status',\n 'next_pymnt_d',\n 'application_type',\n 'hardship_flag',\n 'debt_settlement_flag']"
     },
     "execution_count": 5,
     "metadata": {},
     "output_type": "execute_result"
    }
   ],
   "source": [
    "# Determine categorical features as defined by pd.get_dummies function (object and categories)\n",
    "categorical_features = df.select_dtypes(include=[object]).columns.values.tolist()\n",
    "# Only need to include `object` dtype since there are no categories dtypes assigned\n",
    "categorical_features"
   ]
  },
  {
   "cell_type": "code",
   "execution_count": 6,
   "outputs": [],
   "source": [
    "# Remove target value from being encoded\n",
    "categorical_features.remove(target)"
   ],
   "metadata": {
    "collapsed": false,
    "pycharm": {
     "name": "#%%\n"
    }
   }
  },
  {
   "cell_type": "markdown",
   "metadata": {
    "id": "Mi7KJLLx_5FO"
   },
   "source": [
    "# Split the Data into Training and Testing"
   ]
  },
  {
   "cell_type": "code",
   "execution_count": 7,
   "metadata": {
    "id": "ngkuTu9J_5FO"
   },
   "outputs": [],
   "source": [
    "# Create our features\n",
    "X = pd.get_dummies(\n",
    "    df.drop([target], axis=1), columns=categorical_features\n",
    ")  # Convert categorical variable into dummy/indicator variables\n",
    "\n",
    "# Create our target\n",
    "y = df[target]"
   ]
  },
  {
   "cell_type": "code",
   "execution_count": 8,
   "metadata": {
    "colab": {
     "base_uri": "https://localhost:8080/",
     "height": 429
    },
    "id": "Lv997w9IjDGZ",
    "outputId": "4d1febd4-3279-4366-c05e-1817ff74a97a"
   },
   "outputs": [
    {
     "data": {
      "text/plain": "          loan_amnt      int_rate   installment    annual_inc           dti  \\\ncount  68817.000000  68817.000000  68817.000000  6.881700e+04  68817.000000   \nmean   16677.594562      0.127718    480.652863  8.821371e+04     21.778153   \nstd    10277.348590      0.048130    288.062432  1.155800e+05     20.199244   \nmin     1000.000000      0.060000     30.890000  4.000000e+01      0.000000   \n25%     9000.000000      0.088100    265.730000  5.000000e+04     13.890000   \n50%    15000.000000      0.118000    404.560000  7.300000e+04     19.760000   \n75%    24000.000000      0.155700    648.100000  1.040000e+05     26.660000   \nmax    40000.000000      0.308400   1676.230000  8.797500e+06    999.000000   \n\n        delinq_2yrs  inq_last_6mths      open_acc       pub_rec  \\\ncount  68817.000000    68817.000000  68817.000000  68817.000000   \nmean       0.217766        0.497697     12.587340      0.126030   \nstd        0.718367        0.758122      6.022869      0.336797   \nmin        0.000000        0.000000      2.000000      0.000000   \n25%        0.000000        0.000000      8.000000      0.000000   \n50%        0.000000        0.000000     11.000000      0.000000   \n75%        0.000000        1.000000     16.000000      0.000000   \nmax       18.000000        5.000000     72.000000      4.000000   \n\n           revol_bal  ...  issue_d_Mar-2019  pymnt_plan_n  \\\ncount   68817.000000  ...      68817.000000       68817.0   \nmean    17604.142828  ...          0.177238           1.0   \nstd     21835.880400  ...          0.381873           0.0   \nmin         0.000000  ...          0.000000           1.0   \n25%      6293.000000  ...          0.000000           1.0   \n50%     12068.000000  ...          0.000000           1.0   \n75%     21735.000000  ...          0.000000           1.0   \nmax    587191.000000  ...          1.000000           1.0   \n\n       initial_list_status_f  initial_list_status_w  next_pymnt_d_Apr-2019  \\\ncount           68817.000000           68817.000000           68817.000000   \nmean                0.123879               0.876121               0.383161   \nstd                 0.329446               0.329446               0.486161   \nmin                 0.000000               0.000000               0.000000   \n25%                 0.000000               1.000000               0.000000   \n50%                 0.000000               1.000000               0.000000   \n75%                 0.000000               1.000000               1.000000   \nmax                 1.000000               1.000000               1.000000   \n\n       next_pymnt_d_May-2019  application_type_Individual  \\\ncount           68817.000000                 68817.000000   \nmean                0.616839                     0.860340   \nstd                 0.486161                     0.346637   \nmin                 0.000000                     0.000000   \n25%                 0.000000                     1.000000   \n50%                 1.000000                     1.000000   \n75%                 1.000000                     1.000000   \nmax                 1.000000                     1.000000   \n\n       application_type_Joint App  hardship_flag_N  debt_settlement_flag_N  \ncount                68817.000000          68817.0                 68817.0  \nmean                     0.139660              1.0                     1.0  \nstd                      0.346637              0.0                     0.0  \nmin                      0.000000              1.0                     1.0  \n25%                      0.000000              1.0                     1.0  \n50%                      0.000000              1.0                     1.0  \n75%                      0.000000              1.0                     1.0  \nmax                      1.000000              1.0                     1.0  \n\n[8 rows x 95 columns]",
      "text/html": "<div>\n<style scoped>\n    .dataframe tbody tr th:only-of-type {\n        vertical-align: middle;\n    }\n\n    .dataframe tbody tr th {\n        vertical-align: top;\n    }\n\n    .dataframe thead th {\n        text-align: right;\n    }\n</style>\n<table border=\"1\" class=\"dataframe\">\n  <thead>\n    <tr style=\"text-align: right;\">\n      <th></th>\n      <th>loan_amnt</th>\n      <th>int_rate</th>\n      <th>installment</th>\n      <th>annual_inc</th>\n      <th>dti</th>\n      <th>delinq_2yrs</th>\n      <th>inq_last_6mths</th>\n      <th>open_acc</th>\n      <th>pub_rec</th>\n      <th>revol_bal</th>\n      <th>...</th>\n      <th>issue_d_Mar-2019</th>\n      <th>pymnt_plan_n</th>\n      <th>initial_list_status_f</th>\n      <th>initial_list_status_w</th>\n      <th>next_pymnt_d_Apr-2019</th>\n      <th>next_pymnt_d_May-2019</th>\n      <th>application_type_Individual</th>\n      <th>application_type_Joint App</th>\n      <th>hardship_flag_N</th>\n      <th>debt_settlement_flag_N</th>\n    </tr>\n  </thead>\n  <tbody>\n    <tr>\n      <th>count</th>\n      <td>68817.000000</td>\n      <td>68817.000000</td>\n      <td>68817.000000</td>\n      <td>6.881700e+04</td>\n      <td>68817.000000</td>\n      <td>68817.000000</td>\n      <td>68817.000000</td>\n      <td>68817.000000</td>\n      <td>68817.000000</td>\n      <td>68817.000000</td>\n      <td>...</td>\n      <td>68817.000000</td>\n      <td>68817.0</td>\n      <td>68817.000000</td>\n      <td>68817.000000</td>\n      <td>68817.000000</td>\n      <td>68817.000000</td>\n      <td>68817.000000</td>\n      <td>68817.000000</td>\n      <td>68817.0</td>\n      <td>68817.0</td>\n    </tr>\n    <tr>\n      <th>mean</th>\n      <td>16677.594562</td>\n      <td>0.127718</td>\n      <td>480.652863</td>\n      <td>8.821371e+04</td>\n      <td>21.778153</td>\n      <td>0.217766</td>\n      <td>0.497697</td>\n      <td>12.587340</td>\n      <td>0.126030</td>\n      <td>17604.142828</td>\n      <td>...</td>\n      <td>0.177238</td>\n      <td>1.0</td>\n      <td>0.123879</td>\n      <td>0.876121</td>\n      <td>0.383161</td>\n      <td>0.616839</td>\n      <td>0.860340</td>\n      <td>0.139660</td>\n      <td>1.0</td>\n      <td>1.0</td>\n    </tr>\n    <tr>\n      <th>std</th>\n      <td>10277.348590</td>\n      <td>0.048130</td>\n      <td>288.062432</td>\n      <td>1.155800e+05</td>\n      <td>20.199244</td>\n      <td>0.718367</td>\n      <td>0.758122</td>\n      <td>6.022869</td>\n      <td>0.336797</td>\n      <td>21835.880400</td>\n      <td>...</td>\n      <td>0.381873</td>\n      <td>0.0</td>\n      <td>0.329446</td>\n      <td>0.329446</td>\n      <td>0.486161</td>\n      <td>0.486161</td>\n      <td>0.346637</td>\n      <td>0.346637</td>\n      <td>0.0</td>\n      <td>0.0</td>\n    </tr>\n    <tr>\n      <th>min</th>\n      <td>1000.000000</td>\n      <td>0.060000</td>\n      <td>30.890000</td>\n      <td>4.000000e+01</td>\n      <td>0.000000</td>\n      <td>0.000000</td>\n      <td>0.000000</td>\n      <td>2.000000</td>\n      <td>0.000000</td>\n      <td>0.000000</td>\n      <td>...</td>\n      <td>0.000000</td>\n      <td>1.0</td>\n      <td>0.000000</td>\n      <td>0.000000</td>\n      <td>0.000000</td>\n      <td>0.000000</td>\n      <td>0.000000</td>\n      <td>0.000000</td>\n      <td>1.0</td>\n      <td>1.0</td>\n    </tr>\n    <tr>\n      <th>25%</th>\n      <td>9000.000000</td>\n      <td>0.088100</td>\n      <td>265.730000</td>\n      <td>5.000000e+04</td>\n      <td>13.890000</td>\n      <td>0.000000</td>\n      <td>0.000000</td>\n      <td>8.000000</td>\n      <td>0.000000</td>\n      <td>6293.000000</td>\n      <td>...</td>\n      <td>0.000000</td>\n      <td>1.0</td>\n      <td>0.000000</td>\n      <td>1.000000</td>\n      <td>0.000000</td>\n      <td>0.000000</td>\n      <td>1.000000</td>\n      <td>0.000000</td>\n      <td>1.0</td>\n      <td>1.0</td>\n    </tr>\n    <tr>\n      <th>50%</th>\n      <td>15000.000000</td>\n      <td>0.118000</td>\n      <td>404.560000</td>\n      <td>7.300000e+04</td>\n      <td>19.760000</td>\n      <td>0.000000</td>\n      <td>0.000000</td>\n      <td>11.000000</td>\n      <td>0.000000</td>\n      <td>12068.000000</td>\n      <td>...</td>\n      <td>0.000000</td>\n      <td>1.0</td>\n      <td>0.000000</td>\n      <td>1.000000</td>\n      <td>0.000000</td>\n      <td>1.000000</td>\n      <td>1.000000</td>\n      <td>0.000000</td>\n      <td>1.0</td>\n      <td>1.0</td>\n    </tr>\n    <tr>\n      <th>75%</th>\n      <td>24000.000000</td>\n      <td>0.155700</td>\n      <td>648.100000</td>\n      <td>1.040000e+05</td>\n      <td>26.660000</td>\n      <td>0.000000</td>\n      <td>1.000000</td>\n      <td>16.000000</td>\n      <td>0.000000</td>\n      <td>21735.000000</td>\n      <td>...</td>\n      <td>0.000000</td>\n      <td>1.0</td>\n      <td>0.000000</td>\n      <td>1.000000</td>\n      <td>1.000000</td>\n      <td>1.000000</td>\n      <td>1.000000</td>\n      <td>0.000000</td>\n      <td>1.0</td>\n      <td>1.0</td>\n    </tr>\n    <tr>\n      <th>max</th>\n      <td>40000.000000</td>\n      <td>0.308400</td>\n      <td>1676.230000</td>\n      <td>8.797500e+06</td>\n      <td>999.000000</td>\n      <td>18.000000</td>\n      <td>5.000000</td>\n      <td>72.000000</td>\n      <td>4.000000</td>\n      <td>587191.000000</td>\n      <td>...</td>\n      <td>1.000000</td>\n      <td>1.0</td>\n      <td>1.000000</td>\n      <td>1.000000</td>\n      <td>1.000000</td>\n      <td>1.000000</td>\n      <td>1.000000</td>\n      <td>1.000000</td>\n      <td>1.0</td>\n      <td>1.0</td>\n    </tr>\n  </tbody>\n</table>\n<p>8 rows × 95 columns</p>\n</div>"
     },
     "execution_count": 8,
     "metadata": {},
     "output_type": "execute_result"
    }
   ],
   "source": [
    "X.describe()"
   ]
  },
  {
   "cell_type": "code",
   "execution_count": 9,
   "metadata": {
    "colab": {
     "base_uri": "https://localhost:8080/"
    },
    "id": "WYk9L0_y_5FP",
    "outputId": "62c0c9ff-ff2e-468d-c0b9-eb09317fee8d"
   },
   "outputs": [
    {
     "name": "stdout",
     "output_type": "stream",
     "text": [
      "low_risk     68470\n",
      "high_risk      347\n",
      "Name: loan_status, dtype: int64\n"
     ]
    }
   ],
   "source": [
    "# Check the balance of our target values\n",
    "print(y.value_counts())"
   ]
  },
  {
   "cell_type": "code",
   "execution_count": 10,
   "metadata": {
    "id": "YEhGZN9A_5FQ"
   },
   "outputs": [],
   "source": [
    "X_train, X_test, y_train, y_test = train_test_split(\n",
    "    X,\n",
    "    y,\n",
    "    # test_size = .1\n",
    "    # stratify=y,\n",
    "    # shuffle=False,\n",
    "    random_state=1,\n",
    ")"
   ]
  },
  {
   "cell_type": "markdown",
   "metadata": {
    "id": "bsv2Q_00_5FR"
   },
   "source": [
    "# Oversampling\n",
    "\n",
    "In this section, you will compare two oversampling algorithms to determine which algorithm results in the best performance. You will oversample the data using the naive random oversampling algorithm and the SMOTE algorithm. For each algorithm, be sure to complete the folliowing steps:\n",
    "\n",
    "1. View the count of the target classes using `Counter` from the collections library.\n",
    "3. Use the resampled data to train a logistic regression model.\n",
    "3. Calculate the balanced accuracy score from sklearn.metrics.\n",
    "4. Print the confusion matrix from sklearn.metrics.\n",
    "5. Generate a classication report using the `imbalanced_classification_report` from imbalanced-learn.\n",
    "\n",
    "Note: Use a random state of 1 for each sampling algorithm to ensure consistency between tests"
   ]
  },
  {
   "cell_type": "markdown",
   "metadata": {
    "id": "jY0rLw8k_5FR"
   },
   "source": [
    "### Naive Random Oversampling"
   ]
  },
  {
   "cell_type": "code",
   "execution_count": 11,
   "metadata": {
    "colab": {
     "base_uri": "https://localhost:8080/"
    },
    "id": "IDFb3HVp_5FR",
    "outputId": "2bc59730-883e-4a4a-bb8c-695b62c661e3"
   },
   "outputs": [
    {
     "name": "stdout",
     "output_type": "stream",
     "text": [
      "Counter({'low_risk': 51366, 'high_risk': 51366})\n"
     ]
    }
   ],
   "source": [
    "# Resample the training data with the RandomOversampler\n",
    "ros = RandomOverSampler(random_state=1)\n",
    "X_train_resample, y_train_resample = ros.fit_resample(X_train, y_train)\n",
    "print(Counter(y_train_resample))"
   ]
  },
  {
   "cell_type": "code",
   "execution_count": 12,
   "metadata": {
    "colab": {
     "base_uri": "https://localhost:8080/"
    },
    "id": "AWyHG5lE_5FS",
    "outputId": "f9653221-799b-4cca-e8cb-501905ff689e"
   },
   "outputs": [
    {
     "data": {
      "text/plain": "LogisticRegression(random_state=1)"
     },
     "execution_count": 12,
     "metadata": {},
     "output_type": "execute_result"
    }
   ],
   "source": [
    "# Train the Logistic Regression model using the resampled data\n",
    "model = LogisticRegression(solver=\"lbfgs\", random_state=1)\n",
    "model.fit(X_train_resample, y_train_resample)"
   ]
  },
  {
   "cell_type": "code",
   "execution_count": 13,
   "metadata": {
    "colab": {
     "base_uri": "https://localhost:8080/"
    },
    "id": "1_4jfFqW_Q0_",
    "outputId": "2207851e-da03-4d9b-d142-d9d2c4f54adc"
   },
   "outputs": [
    {
     "data": {
      "text/plain": "0.6463970560994359"
     },
     "execution_count": 13,
     "metadata": {},
     "output_type": "execute_result"
    }
   ],
   "source": [
    "# Calculated the balanced accuracy score\n",
    "y_pred = model.predict(X_test)\n",
    "balanced_accuracy_score(y_test, y_pred)"
   ]
  },
  {
   "cell_type": "code",
   "execution_count": 14,
   "metadata": {
    "colab": {
     "base_uri": "https://localhost:8080/"
    },
    "id": "ws__AmNE_5FS",
    "outputId": "8be1e998-3a70-403a-9fdf-60f0021ca0b7"
   },
   "outputs": [
    {
     "data": {
      "text/plain": "array([[  72,   29],\n       [7185, 9919]], dtype=int64)"
     },
     "execution_count": 14,
     "metadata": {},
     "output_type": "execute_result"
    }
   ],
   "source": [
    "# Display the confusion matrix\n",
    "confusion_matrix(y_test, y_pred)"
   ]
  },
  {
   "cell_type": "code",
   "execution_count": 15,
   "metadata": {
    "colab": {
     "base_uri": "https://localhost:8080/"
    },
    "id": "jKdRjQTS_5FT",
    "outputId": "77753035-c749-4ba1-9cdf-046746bfe2b5"
   },
   "outputs": [
    {
     "name": "stdout",
     "output_type": "stream",
     "text": [
      "                   pre       rec       spe        f1       geo       iba       sup\n",
      "\n",
      "  high_risk       0.01      0.71      0.58      0.02      0.64      0.42       101\n",
      "   low_risk       1.00      0.58      0.71      0.73      0.64      0.41     17104\n",
      "\n",
      "avg / total       0.99      0.58      0.71      0.73      0.64      0.41     17205\n",
      "\n"
     ]
    }
   ],
   "source": [
    "# Print the imbalanced classification report\n",
    "print(classification_report_imbalanced(y_test, y_pred))"
   ]
  },
  {
   "cell_type": "markdown",
   "metadata": {
    "id": "CactlfN5_5FT"
   },
   "source": [
    "### SMOTE Oversampling"
   ]
  },
  {
   "cell_type": "code",
   "execution_count": 16,
   "metadata": {
    "colab": {
     "base_uri": "https://localhost:8080/"
    },
    "id": "FhHK_coP_5FT",
    "outputId": "88e99b78-8b4b-4e32-c625-081b05b762c9"
   },
   "outputs": [
    {
     "data": {
      "text/plain": "Counter({'low_risk': 51366, 'high_risk': 51366})"
     },
     "execution_count": 16,
     "metadata": {},
     "output_type": "execute_result"
    }
   ],
   "source": [
    "# Resample the training data with SMOTE\n",
    "X_train_resample, y_train_resample = SMOTE(\n",
    "    random_state=1, sampling_strategy=\"auto\"\n",
    ").fit_resample(X_train, y_train)\n",
    "\n",
    "Counter(y_train_resample)"
   ]
  },
  {
   "cell_type": "code",
   "execution_count": 17,
   "metadata": {
    "colab": {
     "base_uri": "https://localhost:8080/"
    },
    "id": "NL5X9qQ4_5FU",
    "outputId": "709107ef-520c-4de4-d006-dd5ae5bb0383"
   },
   "outputs": [],
   "source": [
    "# Train the Logistic Regression model using the resampled data\n",
    "model = LogisticRegression(solver=\"lbfgs\", random_state=1, max_iter=100)\n",
    "model.fit(X_train_resample, y_train_resample)\n",
    "y_pred = model.predict(X_test)"
   ]
  },
  {
   "cell_type": "code",
   "execution_count": 18,
   "metadata": {
    "colab": {
     "base_uri": "https://localhost:8080/"
    },
    "id": "VpNcJWT-_5FU",
    "outputId": "cde4868a-b2dc-41e6-bc20-cd555cda200b"
   },
   "outputs": [
    {
     "data": {
      "text/plain": "0.6586230769943224"
     },
     "execution_count": 18,
     "metadata": {},
     "output_type": "execute_result"
    }
   ],
   "source": [
    "# Calculated the balanced accuracy score\n",
    "balanced_accuracy_score(y_test, y_pred)"
   ]
  },
  {
   "cell_type": "code",
   "execution_count": 19,
   "metadata": {
    "colab": {
     "base_uri": "https://localhost:8080/"
    },
    "id": "4z6gSHnR_5FU",
    "outputId": "02727638-2dfa-4d16-a4b1-3920344da7df"
   },
   "outputs": [
    {
     "data": {
      "text/plain": "array([[   64,    37],\n       [ 5412, 11692]], dtype=int64)"
     },
     "execution_count": 19,
     "metadata": {},
     "output_type": "execute_result"
    }
   ],
   "source": [
    "# Display the confusion matrix\n",
    "confusion_matrix(y_test, y_pred)"
   ]
  },
  {
   "cell_type": "code",
   "execution_count": 20,
   "metadata": {
    "colab": {
     "base_uri": "https://localhost:8080/"
    },
    "id": "Kt-L73YU_5FV",
    "outputId": "5f8c5c75-9d12-4c20-ca8a-4c1e62642b74"
   },
   "outputs": [
    {
     "name": "stdout",
     "output_type": "stream",
     "text": [
      "                   pre       rec       spe        f1       geo       iba       sup\n",
      "\n",
      "  high_risk      0.012     0.634     0.684     0.023     0.658     0.431       101\n",
      "   low_risk      0.997     0.684     0.634     0.811     0.658     0.435     17104\n",
      "\n",
      "avg / total      0.991     0.683     0.634     0.806     0.658     0.435     17205\n",
      "\n"
     ]
    }
   ],
   "source": [
    "# Print the imbalanced classification report\n",
    "print(classification_report_imbalanced(y_test, y_pred, digits=3))"
   ]
  },
  {
   "cell_type": "markdown",
   "metadata": {
    "id": "mKHzBf1n_5FV"
   },
   "source": [
    "# Undersampling\n",
    "\n",
    "In this section, you will test an undersampling algorithms to determine which algorithm results in the best performance compared to the oversampling algorithms above. You will undersample the data using the Cluster Centroids algorithm and complete the folliowing steps:\n",
    "\n",
    "1. View the count of the target classes using `Counter` from the collections library.\n",
    "3. Use the resampled data to train a logistic regression model.\n",
    "3. Calculate the balanced accuracy score from sklearn.metrics.\n",
    "4. Print the confusion matrix from sklearn.metrics.\n",
    "5. Generate a classication report using the `imbalanced_classification_report` from imbalanced-learn.\n",
    "\n",
    "Note: Use a random state of 1 for each sampling algorithm to ensure consistency between tests"
   ]
  },
  {
   "cell_type": "code",
   "execution_count": 21,
   "metadata": {
    "colab": {
     "base_uri": "https://localhost:8080/"
    },
    "id": "Kflf--Sn_5FV",
    "outputId": "995319f6-4251-439b-d14b-3920ae1d9569"
   },
   "outputs": [
    {
     "data": {
      "text/plain": "Counter({'high_risk': 246, 'low_risk': 246})"
     },
     "execution_count": 21,
     "metadata": {},
     "output_type": "execute_result"
    }
   ],
   "source": [
    "# Resample the data using the ClusterCentroids resampler\n",
    "# Warning: This is a large dataset, and this step may take some time to complete\n",
    "cc = ClusterCentroids(random_state=1)\n",
    "X_train_resample, y_train_resample = cc.fit_resample(X_train, y_train)\n",
    "Counter(y_train_resample)"
   ]
  },
  {
   "cell_type": "code",
   "execution_count": 22,
   "metadata": {
    "colab": {
     "base_uri": "https://localhost:8080/"
    },
    "id": "nIdGsDzH_5FV",
    "outputId": "1cedf7fd-c1ce-4383-f639-8c1d65a0bb5a"
   },
   "outputs": [],
   "source": [
    "# Train the Logistic Regression model using the resampled data\n",
    "model = LogisticRegression(solver=\"lbfgs\", random_state=1, max_iter=100)\n",
    "model.fit(X_train_resample, y_train_resample)\n",
    "y_pred = model.predict(X_test)"
   ]
  },
  {
   "cell_type": "code",
   "execution_count": 23,
   "metadata": {
    "colab": {
     "base_uri": "https://localhost:8080/"
    },
    "id": "rWau2n_x_5FW",
    "outputId": "02bc0eaa-e2cb-4a86-e5d3-250569c6a1ad"
   },
   "outputs": [
    {
     "data": {
      "text/plain": "0.5442369453268994"
     },
     "execution_count": 23,
     "metadata": {},
     "output_type": "execute_result"
    }
   ],
   "source": [
    "# Calculated the balanced accuracy score\n",
    "balanced_accuracy_score(y_test, y_pred)"
   ]
  },
  {
   "cell_type": "code",
   "execution_count": 24,
   "metadata": {
    "colab": {
     "base_uri": "https://localhost:8080/"
    },
    "id": "jGhAR0-d_5FW",
    "outputId": "0d002faf-0c61-424b-c190-559aa8b93de9"
   },
   "outputs": [
    {
     "data": {
      "text/plain": "array([[   70,    31],\n       [10341,  6763]], dtype=int64)"
     },
     "execution_count": 24,
     "metadata": {},
     "output_type": "execute_result"
    }
   ],
   "source": [
    "# Display the confusion matrix\n",
    "confusion_matrix(y_test, y_pred)"
   ]
  },
  {
   "cell_type": "code",
   "execution_count": 25,
   "metadata": {
    "colab": {
     "base_uri": "https://localhost:8080/"
    },
    "id": "bMi8F8fY_5FW",
    "outputId": "1d504173-d517-4059-cf28-dbb0ad4ac167"
   },
   "outputs": [
    {
     "name": "stdout",
     "output_type": "stream",
     "text": [
      "                   pre       rec       spe        f1       geo       iba       sup\n",
      "\n",
      "  high_risk       0.01      0.69      0.40      0.01      0.52      0.28       101\n",
      "   low_risk       1.00      0.40      0.69      0.57      0.52      0.27     17104\n",
      "\n",
      "avg / total       0.99      0.40      0.69      0.56      0.52      0.27     17205\n",
      "\n"
     ]
    }
   ],
   "source": [
    "# Print the imbalanced classification report\n",
    "print(classification_report_imbalanced(y_test, y_pred))"
   ]
  },
  {
   "cell_type": "markdown",
   "metadata": {
    "id": "gQVIlLgk_5FW"
   },
   "source": [
    "# Combination (Over and Under) Sampling\n",
    "\n",
    "In this section, you will test a combination over- and under-sampling algorithm to determine if the algorithm results in the best performance compared to the other sampling algorithms above. You will resample the data using the SMOTEENN algorithm and complete the folliowing steps:\n",
    "\n",
    "1. View the count of the target classes using `Counter` from the collections library. \n",
    "3. Use the resampled data to train a logistic regression model.\n",
    "3. Calculate the balanced accuracy score from sklearn.metrics.\n",
    "4. Print the confusion matrix from sklearn.metrics.\n",
    "5. Generate a classication report using the `imbalanced_classification_report` from imbalanced-learn.\n",
    "\n",
    "Note: Use a random state of 1 for each sampling algorithm to ensure consistency between tests"
   ]
  },
  {
   "cell_type": "code",
   "execution_count": 26,
   "metadata": {
    "colab": {
     "base_uri": "https://localhost:8080/"
    },
    "id": "Vhehy5iZvcxl",
    "outputId": "68e1ae81-2cad-4a75-dab7-c5c9bab6dd41"
   },
   "outputs": [
    {
     "data": {
      "text/plain": "Counter({'high_risk': 51361, 'low_risk': 46653})"
     },
     "execution_count": 26,
     "metadata": {},
     "output_type": "execute_result"
    }
   ],
   "source": [
    "# Resample the training data with SMOTEENN\n",
    "# Warning: This is a large dataset, and this step may take some time to complete\n",
    "smote_enn = SMOTEENN(random_state=1)\n",
    "X_train_resample, y_train_resample = smote_enn.fit_resample(X_train, y_train)\n",
    "Counter(y_train_resample)"
   ]
  },
  {
   "cell_type": "code",
   "execution_count": 27,
   "metadata": {
    "colab": {
     "base_uri": "https://localhost:8080/"
    },
    "id": "G2awH25X_5FX",
    "outputId": "afc81858-6e43-47ba-ecaa-4f16dd23cf52"
   },
   "outputs": [],
   "source": [
    "# Train the Logistic Regression model using the resampled data\n",
    "model = LogisticRegression(solver=\"lbfgs\", random_state=1, max_iter=100)\n",
    "model.fit(X_train_resample, y_train_resample)\n",
    "y_pred = model.predict(X_test)"
   ]
  },
  {
   "cell_type": "code",
   "execution_count": 28,
   "metadata": {
    "colab": {
     "base_uri": "https://localhost:8080/"
    },
    "id": "Gf7lvntc_5FX",
    "outputId": "b851fe27-3047-43bf-b2f2-79db1a9a1335"
   },
   "outputs": [
    {
     "data": {
      "text/plain": "0.6361059077142514"
     },
     "execution_count": 28,
     "metadata": {},
     "output_type": "execute_result"
    }
   ],
   "source": [
    "# Calculated the balanced accuracy score\n",
    "balanced_accuracy_score(y_test, y_pred)"
   ]
  },
  {
   "cell_type": "code",
   "execution_count": 29,
   "metadata": {
    "colab": {
     "base_uri": "https://localhost:8080/"
    },
    "id": "jQPuDm8G_5FX",
    "outputId": "458ce2da-501a-419b-9d4c-5bc5c2e72506"
   },
   "outputs": [
    {
     "data": {
      "text/plain": "array([[   69,    32],\n       [ 7029, 10075]], dtype=int64)"
     },
     "execution_count": 29,
     "metadata": {},
     "output_type": "execute_result"
    }
   ],
   "source": [
    "# Display the confusion matrix\n",
    "confusion_matrix(y_test, y_pred)"
   ]
  },
  {
   "cell_type": "code",
   "execution_count": 30,
   "metadata": {
    "colab": {
     "base_uri": "https://localhost:8080/"
    },
    "id": "eeaW-qbK_5FY",
    "outputId": "4df776e6-8fe0-4234-9dae-f482312eb7d7"
   },
   "outputs": [
    {
     "name": "stdout",
     "output_type": "stream",
     "text": [
      "                   pre       rec       spe        f1       geo       iba       sup\n",
      "\n",
      "  high_risk       0.01      0.68      0.59      0.02      0.63      0.41       101\n",
      "   low_risk       1.00      0.59      0.68      0.74      0.63      0.40     17104\n",
      "\n",
      "avg / total       0.99      0.59      0.68      0.74      0.63      0.40     17205\n",
      "\n"
     ]
    }
   ],
   "source": [
    "# Print the imbalanced classification report\n",
    "print(classification_report_imbalanced(y_test, y_pred))"
   ]
  }
 ],
 "metadata": {
  "colab": {
   "collapsed_sections": [
    "E5Tag9kAj1mI"
   ],
   "name": "credit_risk_resampling.ipynb",
   "provenance": []
  },
  "kernelspec": {
   "name": "python3.10",
   "language": "python",
   "display_name": "Python3.10"
  },
  "language_info": {
   "codemirror_mode": {
    "name": "ipython",
    "version": 3
   },
   "file_extension": ".py",
   "mimetype": "text/x-python",
   "name": "python",
   "nbconvert_exporter": "python",
   "pygments_lexer": "ipython3",
   "version": "3.8.8"
  }
 },
 "nbformat": 4,
 "nbformat_minor": 1
}