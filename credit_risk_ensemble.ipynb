{
 "cells": [
  {
   "cell_type": "markdown",
   "metadata": {},
   "source": [
    "# Credit Risk Ensemble Learners"
   ]
  },
  {
   "cell_type": "markdown",
   "metadata": {},
   "source": [
    "## Imports\n"
   ]
  },
  {
   "cell_type": "code",
   "execution_count": 1,
   "metadata": {
    "id": "tE5Drd9hNkL7"
   },
   "outputs": [],
   "source": [
    "import warnings\n",
    "\n",
    "warnings.filterwarnings(\"ignore\")\n",
    "\n",
    "import pandas as pd\n",
    "import matplotlib.pyplot as plt\n",
    "from pathlib import Path\n",
    "\n",
    "from sklearn.model_selection import train_test_split\n",
    "from sklearn.metrics import balanced_accuracy_score\n",
    "from sklearn.metrics import confusion_matrix, ConfusionMatrixDisplay\n",
    "from imblearn.metrics import classification_report_imbalanced\n",
    "from imblearn.ensemble import BalancedRandomForestClassifier\n",
    "from imblearn.ensemble import EasyEnsembleClassifier"
   ]
  },
  {
   "cell_type": "markdown",
   "metadata": {
    "id": "GeML2GXmNkL8"
   },
   "source": [
    "# Read the CSV and Perform Basic Data Cleaning"
   ]
  },
  {
   "cell_type": "code",
   "execution_count": 2,
   "metadata": {
    "id": "yY_7_DNkNkL-"
   },
   "outputs": [],
   "source": [
    "# https://help.lendingclub.com/hc/en-us/articles/215488038-What-do-the-different-Note-statuses-mean-\n",
    "\n",
    "cols = [\n",
    "    \"loan_amnt\",\n",
    "    \"int_rate\",\n",
    "    \"installment\",\n",
    "    \"home_ownership\",\n",
    "    \"annual_inc\",\n",
    "    \"verification_status\",\n",
    "    \"issue_d\",\n",
    "    \"loan_status\",\n",
    "    \"pymnt_plan\",\n",
    "    \"dti\",\n",
    "    \"delinq_2yrs\",\n",
    "    \"inq_last_6mths\",\n",
    "    \"open_acc\",\n",
    "    \"pub_rec\",\n",
    "    \"revol_bal\",\n",
    "    \"total_acc\",\n",
    "    \"initial_list_status\",\n",
    "    \"out_prncp\",\n",
    "    \"out_prncp_inv\",\n",
    "    \"total_pymnt\",\n",
    "    \"total_pymnt_inv\",\n",
    "    \"total_rec_prncp\",\n",
    "    \"total_rec_int\",\n",
    "    \"total_rec_late_fee\",\n",
    "    \"recoveries\",\n",
    "    \"collection_recovery_fee\",\n",
    "    \"last_pymnt_amnt\",\n",
    "    \"next_pymnt_d\",\n",
    "    \"collections_12_mths_ex_med\",\n",
    "    \"policy_code\",\n",
    "    \"application_type\",\n",
    "    \"acc_now_delinq\",\n",
    "    \"tot_coll_amt\",\n",
    "    \"tot_cur_bal\",\n",
    "    \"open_acc_6m\",\n",
    "    \"open_act_il\",\n",
    "    \"open_il_12m\",\n",
    "    \"open_il_24m\",\n",
    "    \"mths_since_rcnt_il\",\n",
    "    \"total_bal_il\",\n",
    "    \"il_util\",\n",
    "    \"open_rv_12m\",\n",
    "    \"open_rv_24m\",\n",
    "    \"max_bal_bc\",\n",
    "    \"all_util\",\n",
    "    \"total_rev_hi_lim\",\n",
    "    \"inq_fi\",\n",
    "    \"total_cu_tl\",\n",
    "    \"inq_last_12m\",\n",
    "    \"acc_open_past_24mths\",\n",
    "    \"avg_cur_bal\",\n",
    "    \"bc_open_to_buy\",\n",
    "    \"bc_util\",\n",
    "    \"chargeoff_within_12_mths\",\n",
    "    \"delinq_amnt\",\n",
    "    \"mo_sin_old_il_acct\",\n",
    "    \"mo_sin_old_rev_tl_op\",\n",
    "    \"mo_sin_rcnt_rev_tl_op\",\n",
    "    \"mo_sin_rcnt_tl\",\n",
    "    \"mort_acc\",\n",
    "    \"mths_since_recent_bc\",\n",
    "    \"mths_since_recent_inq\",\n",
    "    \"num_accts_ever_120_pd\",\n",
    "    \"num_actv_bc_tl\",\n",
    "    \"num_actv_rev_tl\",\n",
    "    \"num_bc_sats\",\n",
    "    \"num_bc_tl\",\n",
    "    \"num_il_tl\",\n",
    "    \"num_op_rev_tl\",\n",
    "    \"num_rev_accts\",\n",
    "    \"num_rev_tl_bal_gt_0\",\n",
    "    \"num_sats\",\n",
    "    \"num_tl_120dpd_2m\",\n",
    "    \"num_tl_30dpd\",\n",
    "    \"num_tl_90g_dpd_24m\",\n",
    "    \"num_tl_op_past_12m\",\n",
    "    \"pct_tl_nvr_dlq\",\n",
    "    \"percent_bc_gt_75\",\n",
    "    \"pub_rec_bankruptcies\",\n",
    "    \"tax_liens\",\n",
    "    \"tot_hi_cred_lim\",\n",
    "    \"total_bal_ex_mort\",\n",
    "    \"total_bc_limit\",\n",
    "    \"total_il_high_credit_limit\",\n",
    "    \"hardship_flag\",\n",
    "    \"debt_settlement_flag\",\n",
    "]\n",
    "\n",
    "target = \"loan_status\""
   ]
  },
  {
   "cell_type": "code",
   "execution_count": 3,
   "metadata": {
    "colab": {
     "base_uri": "https://localhost:8080/",
     "height": 318
    },
    "id": "DFOOGOAANkL-",
    "outputId": "f4361343-f950-4ff7-d9f1-9d072e516abf"
   },
   "outputs": [
    {
     "data": {
      "text/plain": "   loan_amnt  int_rate  installment home_ownership  annual_inc  \\\n0    10500.0    0.1719       375.35           RENT     66000.0   \n1    25000.0    0.2000       929.09       MORTGAGE    105000.0   \n2    20000.0    0.2000       529.88       MORTGAGE     56000.0   \n3    10000.0    0.1640       353.55           RENT     92000.0   \n4    22000.0    0.1474       520.39       MORTGAGE     52000.0   \n\n  verification_status   issue_d loan_status pymnt_plan    dti  ...  \\\n0     Source Verified  Mar-2019    low_risk          n  27.24  ...   \n1            Verified  Mar-2019    low_risk          n  20.23  ...   \n2            Verified  Mar-2019    low_risk          n  24.26  ...   \n3            Verified  Mar-2019    low_risk          n  31.44  ...   \n4        Not Verified  Mar-2019    low_risk          n  18.76  ...   \n\n   pct_tl_nvr_dlq  percent_bc_gt_75  pub_rec_bankruptcies  tax_liens  \\\n0            85.7             100.0                   0.0        0.0   \n1            91.2              50.0                   1.0        0.0   \n2            66.7              50.0                   0.0        0.0   \n3           100.0              50.0                   1.0        0.0   \n4           100.0               0.0                   0.0        0.0   \n\n   tot_hi_cred_lim  total_bal_ex_mort total_bc_limit  \\\n0          65687.0            38199.0         2000.0   \n1         271427.0            60641.0        41200.0   \n2          60644.0            45684.0         7500.0   \n3          99506.0            68784.0        19700.0   \n4         219750.0            25919.0        27600.0   \n\n   total_il_high_credit_limit  hardship_flag  debt_settlement_flag  \n0                     61987.0              N                     N  \n1                     49197.0              N                     N  \n2                     43144.0              N                     N  \n3                     76506.0              N                     N  \n4                     20000.0              N                     N  \n\n[5 rows x 86 columns]",
      "text/html": "<div>\n<style scoped>\n    .dataframe tbody tr th:only-of-type {\n        vertical-align: middle;\n    }\n\n    .dataframe tbody tr th {\n        vertical-align: top;\n    }\n\n    .dataframe thead th {\n        text-align: right;\n    }\n</style>\n<table border=\"1\" class=\"dataframe\">\n  <thead>\n    <tr style=\"text-align: right;\">\n      <th></th>\n      <th>loan_amnt</th>\n      <th>int_rate</th>\n      <th>installment</th>\n      <th>home_ownership</th>\n      <th>annual_inc</th>\n      <th>verification_status</th>\n      <th>issue_d</th>\n      <th>loan_status</th>\n      <th>pymnt_plan</th>\n      <th>dti</th>\n      <th>...</th>\n      <th>pct_tl_nvr_dlq</th>\n      <th>percent_bc_gt_75</th>\n      <th>pub_rec_bankruptcies</th>\n      <th>tax_liens</th>\n      <th>tot_hi_cred_lim</th>\n      <th>total_bal_ex_mort</th>\n      <th>total_bc_limit</th>\n      <th>total_il_high_credit_limit</th>\n      <th>hardship_flag</th>\n      <th>debt_settlement_flag</th>\n    </tr>\n  </thead>\n  <tbody>\n    <tr>\n      <th>0</th>\n      <td>10500.0</td>\n      <td>0.1719</td>\n      <td>375.35</td>\n      <td>RENT</td>\n      <td>66000.0</td>\n      <td>Source Verified</td>\n      <td>Mar-2019</td>\n      <td>low_risk</td>\n      <td>n</td>\n      <td>27.24</td>\n      <td>...</td>\n      <td>85.7</td>\n      <td>100.0</td>\n      <td>0.0</td>\n      <td>0.0</td>\n      <td>65687.0</td>\n      <td>38199.0</td>\n      <td>2000.0</td>\n      <td>61987.0</td>\n      <td>N</td>\n      <td>N</td>\n    </tr>\n    <tr>\n      <th>1</th>\n      <td>25000.0</td>\n      <td>0.2000</td>\n      <td>929.09</td>\n      <td>MORTGAGE</td>\n      <td>105000.0</td>\n      <td>Verified</td>\n      <td>Mar-2019</td>\n      <td>low_risk</td>\n      <td>n</td>\n      <td>20.23</td>\n      <td>...</td>\n      <td>91.2</td>\n      <td>50.0</td>\n      <td>1.0</td>\n      <td>0.0</td>\n      <td>271427.0</td>\n      <td>60641.0</td>\n      <td>41200.0</td>\n      <td>49197.0</td>\n      <td>N</td>\n      <td>N</td>\n    </tr>\n    <tr>\n      <th>2</th>\n      <td>20000.0</td>\n      <td>0.2000</td>\n      <td>529.88</td>\n      <td>MORTGAGE</td>\n      <td>56000.0</td>\n      <td>Verified</td>\n      <td>Mar-2019</td>\n      <td>low_risk</td>\n      <td>n</td>\n      <td>24.26</td>\n      <td>...</td>\n      <td>66.7</td>\n      <td>50.0</td>\n      <td>0.0</td>\n      <td>0.0</td>\n      <td>60644.0</td>\n      <td>45684.0</td>\n      <td>7500.0</td>\n      <td>43144.0</td>\n      <td>N</td>\n      <td>N</td>\n    </tr>\n    <tr>\n      <th>3</th>\n      <td>10000.0</td>\n      <td>0.1640</td>\n      <td>353.55</td>\n      <td>RENT</td>\n      <td>92000.0</td>\n      <td>Verified</td>\n      <td>Mar-2019</td>\n      <td>low_risk</td>\n      <td>n</td>\n      <td>31.44</td>\n      <td>...</td>\n      <td>100.0</td>\n      <td>50.0</td>\n      <td>1.0</td>\n      <td>0.0</td>\n      <td>99506.0</td>\n      <td>68784.0</td>\n      <td>19700.0</td>\n      <td>76506.0</td>\n      <td>N</td>\n      <td>N</td>\n    </tr>\n    <tr>\n      <th>4</th>\n      <td>22000.0</td>\n      <td>0.1474</td>\n      <td>520.39</td>\n      <td>MORTGAGE</td>\n      <td>52000.0</td>\n      <td>Not Verified</td>\n      <td>Mar-2019</td>\n      <td>low_risk</td>\n      <td>n</td>\n      <td>18.76</td>\n      <td>...</td>\n      <td>100.0</td>\n      <td>0.0</td>\n      <td>0.0</td>\n      <td>0.0</td>\n      <td>219750.0</td>\n      <td>25919.0</td>\n      <td>27600.0</td>\n      <td>20000.0</td>\n      <td>N</td>\n      <td>N</td>\n    </tr>\n  </tbody>\n</table>\n<p>5 rows × 86 columns</p>\n</div>"
     },
     "execution_count": 3,
     "metadata": {},
     "output_type": "execute_result"
    }
   ],
   "source": [
    "# Load the data\n",
    "file_path = Path(\"Resources/LoanStats_2019Q1.csv\")\n",
    "df = pd.read_csv(file_path, skiprows=1, usecols=cols)[:-2]\n",
    "\n",
    "# Drop the null columns where all values are null\n",
    "df.dropna(inplace=True, axis=1, how=\"all\")\n",
    "\n",
    "# Drop the null rows\n",
    "df.dropna(\n",
    "    inplace=True, axis=0, how=\"any\"\n",
    ")  # TODO: Evaluate which rows are being dropped\n",
    "\n",
    "# Remove the `Issued` loan status rows\n",
    "df = df.loc[df[target] != \"Issued\"].copy(deep=True)\n",
    "\n",
    "# Convert interest rate to numerical\n",
    "df[\"int_rate\"] = df[\"int_rate\"].str.replace(\"%\", \"\").astype(\"float\") / 100\n",
    "\n",
    "# Convert the target column values to low_risk and high_risk based on their values\n",
    "df[target] = df[target].str.replace(\"Current\", \"low_risk\")\n",
    "\n",
    "high_risk_pattern = [\n",
    "    \"Late (31-120 days)\",\n",
    "    \"Late (16-30 days)\",\n",
    "    \"Default\",\n",
    "    \"In Grace Period\",\n",
    "]\n",
    "df[target] = df[target].replace(high_risk_pattern, \"high_risk\")\n",
    "# print(df.target.unique()) # check to see if only low_risk and high_risk exist\n",
    "\n",
    "# Reset index\n",
    "df.reset_index(inplace=True, drop=True)\n",
    "df.head()"
   ]
  },
  {
   "cell_type": "markdown",
   "metadata": {
    "id": "iRSvmrsdNkL_"
   },
   "source": [
    "# Split the Data into Training and Testing"
   ]
  },
  {
   "cell_type": "code",
   "execution_count": 4,
   "metadata": {
    "colab": {
     "base_uri": "https://localhost:8080/",
     "height": 429
    },
    "id": "8Kl0_wp6NkMA",
    "outputId": "96b3ec9d-f8e1-4d07-ebf9-8d506bcd91aa"
   },
   "outputs": [],
   "source": [
    "# Create our features\n",
    "X = pd.get_dummies(df.drop([target], axis=1))  # Convert categorical variable into dummy/indicator variables\n",
    "\n",
    "# Create our target\n",
    "y = df[target]"
   ]
  },
  {
   "cell_type": "code",
   "execution_count": 5,
   "outputs": [
    {
     "data": {
      "text/plain": "          loan_amnt      int_rate   installment    annual_inc           dti  \\\ncount  68817.000000  68817.000000  68817.000000  6.881700e+04  68817.000000   \nmean   16677.594562      0.127718    480.652863  8.821371e+04     21.778153   \nstd    10277.348590      0.048130    288.062432  1.155800e+05     20.199244   \nmin     1000.000000      0.060000     30.890000  4.000000e+01      0.000000   \n25%     9000.000000      0.088100    265.730000  5.000000e+04     13.890000   \n50%    15000.000000      0.118000    404.560000  7.300000e+04     19.760000   \n75%    24000.000000      0.155700    648.100000  1.040000e+05     26.660000   \nmax    40000.000000      0.308400   1676.230000  8.797500e+06    999.000000   \n\n        delinq_2yrs  inq_last_6mths      open_acc       pub_rec  \\\ncount  68817.000000    68817.000000  68817.000000  68817.000000   \nmean       0.217766        0.497697     12.587340      0.126030   \nstd        0.718367        0.758122      6.022869      0.336797   \nmin        0.000000        0.000000      2.000000      0.000000   \n25%        0.000000        0.000000      8.000000      0.000000   \n50%        0.000000        0.000000     11.000000      0.000000   \n75%        0.000000        1.000000     16.000000      0.000000   \nmax       18.000000        5.000000     72.000000      4.000000   \n\n           revol_bal  ...  issue_d_Mar-2019  pymnt_plan_n  \\\ncount   68817.000000  ...      68817.000000       68817.0   \nmean    17604.142828  ...          0.177238           1.0   \nstd     21835.880400  ...          0.381873           0.0   \nmin         0.000000  ...          0.000000           1.0   \n25%      6293.000000  ...          0.000000           1.0   \n50%     12068.000000  ...          0.000000           1.0   \n75%     21735.000000  ...          0.000000           1.0   \nmax    587191.000000  ...          1.000000           1.0   \n\n       initial_list_status_f  initial_list_status_w  next_pymnt_d_Apr-2019  \\\ncount           68817.000000           68817.000000           68817.000000   \nmean                0.123879               0.876121               0.383161   \nstd                 0.329446               0.329446               0.486161   \nmin                 0.000000               0.000000               0.000000   \n25%                 0.000000               1.000000               0.000000   \n50%                 0.000000               1.000000               0.000000   \n75%                 0.000000               1.000000               1.000000   \nmax                 1.000000               1.000000               1.000000   \n\n       next_pymnt_d_May-2019  application_type_Individual  \\\ncount           68817.000000                 68817.000000   \nmean                0.616839                     0.860340   \nstd                 0.486161                     0.346637   \nmin                 0.000000                     0.000000   \n25%                 0.000000                     1.000000   \n50%                 1.000000                     1.000000   \n75%                 1.000000                     1.000000   \nmax                 1.000000                     1.000000   \n\n       application_type_Joint App  hardship_flag_N  debt_settlement_flag_N  \ncount                68817.000000          68817.0                 68817.0  \nmean                     0.139660              1.0                     1.0  \nstd                      0.346637              0.0                     0.0  \nmin                      0.000000              1.0                     1.0  \n25%                      0.000000              1.0                     1.0  \n50%                      0.000000              1.0                     1.0  \n75%                      0.000000              1.0                     1.0  \nmax                      1.000000              1.0                     1.0  \n\n[8 rows x 95 columns]",
      "text/html": "<div>\n<style scoped>\n    .dataframe tbody tr th:only-of-type {\n        vertical-align: middle;\n    }\n\n    .dataframe tbody tr th {\n        vertical-align: top;\n    }\n\n    .dataframe thead th {\n        text-align: right;\n    }\n</style>\n<table border=\"1\" class=\"dataframe\">\n  <thead>\n    <tr style=\"text-align: right;\">\n      <th></th>\n      <th>loan_amnt</th>\n      <th>int_rate</th>\n      <th>installment</th>\n      <th>annual_inc</th>\n      <th>dti</th>\n      <th>delinq_2yrs</th>\n      <th>inq_last_6mths</th>\n      <th>open_acc</th>\n      <th>pub_rec</th>\n      <th>revol_bal</th>\n      <th>...</th>\n      <th>issue_d_Mar-2019</th>\n      <th>pymnt_plan_n</th>\n      <th>initial_list_status_f</th>\n      <th>initial_list_status_w</th>\n      <th>next_pymnt_d_Apr-2019</th>\n      <th>next_pymnt_d_May-2019</th>\n      <th>application_type_Individual</th>\n      <th>application_type_Joint App</th>\n      <th>hardship_flag_N</th>\n      <th>debt_settlement_flag_N</th>\n    </tr>\n  </thead>\n  <tbody>\n    <tr>\n      <th>count</th>\n      <td>68817.000000</td>\n      <td>68817.000000</td>\n      <td>68817.000000</td>\n      <td>6.881700e+04</td>\n      <td>68817.000000</td>\n      <td>68817.000000</td>\n      <td>68817.000000</td>\n      <td>68817.000000</td>\n      <td>68817.000000</td>\n      <td>68817.000000</td>\n      <td>...</td>\n      <td>68817.000000</td>\n      <td>68817.0</td>\n      <td>68817.000000</td>\n      <td>68817.000000</td>\n      <td>68817.000000</td>\n      <td>68817.000000</td>\n      <td>68817.000000</td>\n      <td>68817.000000</td>\n      <td>68817.0</td>\n      <td>68817.0</td>\n    </tr>\n    <tr>\n      <th>mean</th>\n      <td>16677.594562</td>\n      <td>0.127718</td>\n      <td>480.652863</td>\n      <td>8.821371e+04</td>\n      <td>21.778153</td>\n      <td>0.217766</td>\n      <td>0.497697</td>\n      <td>12.587340</td>\n      <td>0.126030</td>\n      <td>17604.142828</td>\n      <td>...</td>\n      <td>0.177238</td>\n      <td>1.0</td>\n      <td>0.123879</td>\n      <td>0.876121</td>\n      <td>0.383161</td>\n      <td>0.616839</td>\n      <td>0.860340</td>\n      <td>0.139660</td>\n      <td>1.0</td>\n      <td>1.0</td>\n    </tr>\n    <tr>\n      <th>std</th>\n      <td>10277.348590</td>\n      <td>0.048130</td>\n      <td>288.062432</td>\n      <td>1.155800e+05</td>\n      <td>20.199244</td>\n      <td>0.718367</td>\n      <td>0.758122</td>\n      <td>6.022869</td>\n      <td>0.336797</td>\n      <td>21835.880400</td>\n      <td>...</td>\n      <td>0.381873</td>\n      <td>0.0</td>\n      <td>0.329446</td>\n      <td>0.329446</td>\n      <td>0.486161</td>\n      <td>0.486161</td>\n      <td>0.346637</td>\n      <td>0.346637</td>\n      <td>0.0</td>\n      <td>0.0</td>\n    </tr>\n    <tr>\n      <th>min</th>\n      <td>1000.000000</td>\n      <td>0.060000</td>\n      <td>30.890000</td>\n      <td>4.000000e+01</td>\n      <td>0.000000</td>\n      <td>0.000000</td>\n      <td>0.000000</td>\n      <td>2.000000</td>\n      <td>0.000000</td>\n      <td>0.000000</td>\n      <td>...</td>\n      <td>0.000000</td>\n      <td>1.0</td>\n      <td>0.000000</td>\n      <td>0.000000</td>\n      <td>0.000000</td>\n      <td>0.000000</td>\n      <td>0.000000</td>\n      <td>0.000000</td>\n      <td>1.0</td>\n      <td>1.0</td>\n    </tr>\n    <tr>\n      <th>25%</th>\n      <td>9000.000000</td>\n      <td>0.088100</td>\n      <td>265.730000</td>\n      <td>5.000000e+04</td>\n      <td>13.890000</td>\n      <td>0.000000</td>\n      <td>0.000000</td>\n      <td>8.000000</td>\n      <td>0.000000</td>\n      <td>6293.000000</td>\n      <td>...</td>\n      <td>0.000000</td>\n      <td>1.0</td>\n      <td>0.000000</td>\n      <td>1.000000</td>\n      <td>0.000000</td>\n      <td>0.000000</td>\n      <td>1.000000</td>\n      <td>0.000000</td>\n      <td>1.0</td>\n      <td>1.0</td>\n    </tr>\n    <tr>\n      <th>50%</th>\n      <td>15000.000000</td>\n      <td>0.118000</td>\n      <td>404.560000</td>\n      <td>7.300000e+04</td>\n      <td>19.760000</td>\n      <td>0.000000</td>\n      <td>0.000000</td>\n      <td>11.000000</td>\n      <td>0.000000</td>\n      <td>12068.000000</td>\n      <td>...</td>\n      <td>0.000000</td>\n      <td>1.0</td>\n      <td>0.000000</td>\n      <td>1.000000</td>\n      <td>0.000000</td>\n      <td>1.000000</td>\n      <td>1.000000</td>\n      <td>0.000000</td>\n      <td>1.0</td>\n      <td>1.0</td>\n    </tr>\n    <tr>\n      <th>75%</th>\n      <td>24000.000000</td>\n      <td>0.155700</td>\n      <td>648.100000</td>\n      <td>1.040000e+05</td>\n      <td>26.660000</td>\n      <td>0.000000</td>\n      <td>1.000000</td>\n      <td>16.000000</td>\n      <td>0.000000</td>\n      <td>21735.000000</td>\n      <td>...</td>\n      <td>0.000000</td>\n      <td>1.0</td>\n      <td>0.000000</td>\n      <td>1.000000</td>\n      <td>1.000000</td>\n      <td>1.000000</td>\n      <td>1.000000</td>\n      <td>0.000000</td>\n      <td>1.0</td>\n      <td>1.0</td>\n    </tr>\n    <tr>\n      <th>max</th>\n      <td>40000.000000</td>\n      <td>0.308400</td>\n      <td>1676.230000</td>\n      <td>8.797500e+06</td>\n      <td>999.000000</td>\n      <td>18.000000</td>\n      <td>5.000000</td>\n      <td>72.000000</td>\n      <td>4.000000</td>\n      <td>587191.000000</td>\n      <td>...</td>\n      <td>1.000000</td>\n      <td>1.0</td>\n      <td>1.000000</td>\n      <td>1.000000</td>\n      <td>1.000000</td>\n      <td>1.000000</td>\n      <td>1.000000</td>\n      <td>1.000000</td>\n      <td>1.0</td>\n      <td>1.0</td>\n    </tr>\n  </tbody>\n</table>\n<p>8 rows × 95 columns</p>\n</div>"
     },
     "execution_count": 5,
     "metadata": {},
     "output_type": "execute_result"
    }
   ],
   "source": [
    "X.describe()"
   ],
   "metadata": {
    "collapsed": false,
    "pycharm": {
     "name": "#%%\n"
    }
   }
  },
  {
   "cell_type": "code",
   "execution_count": 6,
   "metadata": {
    "colab": {
     "base_uri": "https://localhost:8080/"
    },
    "id": "rDvF9uu6NkMB",
    "outputId": "ac47c1d6-727f-4c46-9928-50463a55dd6c"
   },
   "outputs": [
    {
     "data": {
      "text/plain": "low_risk     68470\nhigh_risk      347\nName: loan_status, dtype: int64"
     },
     "execution_count": 6,
     "metadata": {},
     "output_type": "execute_result"
    }
   ],
   "source": [
    "# Check the balance of our target values\n",
    "y.value_counts()"
   ]
  },
  {
   "cell_type": "code",
   "execution_count": 7,
   "metadata": {
    "id": "bJPyl40_NkMB"
   },
   "outputs": [],
   "source": [
    "X_train, X_test, y_train, y_test = train_test_split(\n",
    "    X,\n",
    "    y,\n",
    "    # test_size = .1,\n",
    "    # stratify=y,\n",
    "    # shuffle=False,\n",
    "    random_state=1,\n",
    ")"
   ]
  },
  {
   "cell_type": "markdown",
   "metadata": {
    "id": "1KIaIfb0NkMC"
   },
   "source": [
    "# Ensemble Learners\n",
    "\n",
    "Compare two ensemble algorithms to determine which algorithm results in the best performance. Train a Balanced Random Forest Classifier and an Easy Ensemble AdaBoost classifier.\n",
    "\n",
    "1. Train the model using the training data. \n",
    "2. Calculate the balanced accuracy score from sklearn.metrics.\n",
    "3. Print the confusion matrix from sklearn.metrics.\n",
    "4. Generate a classification report using the `imbalanced_classification_report` from imbalanced-learn.\n",
    "5. For the Balanced Random Forest Classifier only, print the feature importance sorted in descending order (most important feature to least important) along with the feature score\n",
    "\n",
    "Note: Use a random state of 1 for each algorithm to ensure consistency between tests"
   ]
  },
  {
   "cell_type": "markdown",
   "metadata": {
    "id": "Y4d52G5hNkMC"
   },
   "source": [
    "### Balanced Random Forest Classifier"
   ]
  },
  {
   "cell_type": "code",
   "execution_count": 8,
   "metadata": {
    "colab": {
     "base_uri": "https://localhost:8080/"
    },
    "id": "x0A4v8PwNkMC",
    "outputId": "a6833681-7990-4812-f2d8-726c2b1ce8b5"
   },
   "outputs": [],
   "source": [
    "# Resample the training data with the BalancedRandomForestClassifier\n",
    "brf = BalancedRandomForestClassifier(\n",
    "    n_estimators=100, random_state=1, n_jobs=-1, verbose=0\n",
    ")\n",
    "brf.fit(X_train, y_train)\n",
    "y_pred = brf.predict(X_test)"
   ]
  },
  {
   "cell_type": "code",
   "execution_count": 9,
   "metadata": {
    "colab": {
     "base_uri": "https://localhost:8080/"
    },
    "id": "JN_KfZehNkMD",
    "outputId": "0047e00e-0d23-4ed1-99d4-fce6645f2e38"
   },
   "outputs": [
    {
     "data": {
      "text/plain": "0.7885466545953005"
     },
     "execution_count": 9,
     "metadata": {},
     "output_type": "execute_result"
    }
   ],
   "source": [
    "# Calculated the balanced accuracy score\n",
    "balanced_accuracy_score(y_test, y_pred)"
   ]
  },
  {
   "cell_type": "code",
   "execution_count": 10,
   "metadata": {
    "colab": {
     "base_uri": "https://localhost:8080/"
    },
    "id": "yir6y-PWNkME",
    "outputId": "f3c090c0-a679-44a7-f0ee-bb8cc790d5d2"
   },
   "outputs": [
    {
     "data": {
      "text/plain": "      0      1\n0    71     30\n1  2153  14951",
      "text/html": "<div>\n<style scoped>\n    .dataframe tbody tr th:only-of-type {\n        vertical-align: middle;\n    }\n\n    .dataframe tbody tr th {\n        vertical-align: top;\n    }\n\n    .dataframe thead th {\n        text-align: right;\n    }\n</style>\n<table border=\"1\" class=\"dataframe\">\n  <thead>\n    <tr style=\"text-align: right;\">\n      <th></th>\n      <th>0</th>\n      <th>1</th>\n    </tr>\n  </thead>\n  <tbody>\n    <tr>\n      <th>0</th>\n      <td>71</td>\n      <td>30</td>\n    </tr>\n    <tr>\n      <th>1</th>\n      <td>2153</td>\n      <td>14951</td>\n    </tr>\n  </tbody>\n</table>\n</div>"
     },
     "execution_count": 10,
     "metadata": {},
     "output_type": "execute_result"
    }
   ],
   "source": [
    "# Display the confusion matrix\n",
    "pd.DataFrame(confusion_matrix(y_test, y_pred, normalize=None))"
   ]
  },
  {
   "cell_type": "code",
   "execution_count": 11,
   "outputs": [
    {
     "data": {
      "text/plain": "<Figure size 432x288 with 2 Axes>",
      "image/png": "[encoded data removed]"
     },
     "metadata": {
      "needs_background": "light"
     },
     "output_type": "display_data"
    }
   ],
   "source": [
    "disp = ConfusionMatrixDisplay.from_predictions(\n",
    "    y_test, y_pred, cmap=\"Blues\", values_format=\"d\"\n",
    ")\n",
    "plt.show()"
   ],
   "metadata": {
    "collapsed": false,
    "pycharm": {
     "name": "#%%\n"
    }
   }
  },
  {
   "cell_type": "code",
   "execution_count": 12,
   "metadata": {
    "colab": {
     "base_uri": "https://localhost:8080/"
    },
    "id": "e4TIyXr1NkME",
    "outputId": "7b79c01f-e0a3-480c-f427-15ad5c9a3ab5"
   },
   "outputs": [
    {
     "name": "stdout",
     "output_type": "stream",
     "text": [
      "                   pre       rec       spe        f1       geo       iba       sup\n",
      "\n",
      "  high_risk       0.03      0.70      0.87      0.06      0.78      0.60       101\n",
      "   low_risk       1.00      0.87      0.70      0.93      0.78      0.62     17104\n",
      "\n",
      "avg / total       0.99      0.87      0.70      0.93      0.78      0.62     17205\n",
      "\n"
     ]
    }
   ],
   "source": [
    "# Print the imbalanced classification report\n",
    "print(classification_report_imbalanced(y_test, y_pred))"
   ]
  },
  {
   "cell_type": "code",
   "execution_count": 13,
   "metadata": {
    "colab": {
     "base_uri": "https://localhost:8080/"
    },
    "id": "no2vew8cNkMF",
    "outputId": "9f3fe216-2dfd-4f83-a6c2-8979e8a1b0c4"
   },
   "outputs": [
    {
     "name": "stdout",
     "output_type": "stream",
     "text": [
      "total_rec_prncp           0.078768\n",
      "total_pymnt               0.058838\n",
      "total_pymnt_inv           0.056256\n",
      "total_rec_int             0.053555\n",
      "last_pymnt_amnt           0.050033\n",
      "                            ...   \n",
      "num_tl_30dpd              0.000000\n",
      "tax_liens                 0.000000\n",
      "pymnt_plan_n              0.000000\n",
      "hardship_flag_N           0.000000\n",
      "debt_settlement_flag_N    0.000000\n",
      "Length: 95, dtype: float64\n"
     ]
    }
   ],
   "source": [
    "# List the features sorted in descending order by feature importance\n",
    "importances = brf.feature_importances_\n",
    "\n",
    "# We can sort the features by their importance.\n",
    "forest_importances = pd.Series(importances, index=X.columns).sort_values(\n",
    "    ascending=False, kind=\"stable\"\n",
    ")\n",
    "print(forest_importances)"
   ]
  },
  {
   "cell_type": "markdown",
   "metadata": {
    "id": "4-mYoFGeNkMF"
   },
   "source": [
    "### Easy Ensemble AdaBoost Classifier"
   ]
  },
  {
   "cell_type": "code",
   "execution_count": 14,
   "metadata": {
    "colab": {
     "base_uri": "https://localhost:8080/"
    },
    "id": "zXcmnjylNkMF",
    "outputId": "da595479-d67b-4720-9e8d-2e1d6f238ae7",
    "pycharm": {
     "name": "#%%\n"
    }
   },
   "outputs": [],
   "source": [
    "# Train the EasyEnsembleClassifier\n",
    "eec = EasyEnsembleClassifier(n_estimators=100, random_state=1, n_jobs=-1, verbose=0)\n",
    "eec.fit(X_train, y_train)\n",
    "y_pred = eec.predict(X_test)"
   ]
  },
  {
   "cell_type": "code",
   "execution_count": 15,
   "outputs": [
    {
     "data": {
      "text/plain": "0.9316600714093861"
     },
     "execution_count": 15,
     "metadata": {},
     "output_type": "execute_result"
    }
   ],
   "source": [
    "# Calculated the balanced accuracy score\n",
    "balanced_accuracy_score(y_test, y_pred)"
   ],
   "metadata": {
    "collapsed": false,
    "pycharm": {
     "name": "#%%\n"
    }
   }
  },
  {
   "cell_type": "code",
   "execution_count": 16,
   "outputs": [
    {
     "data": {
      "text/plain": "     0      1\n0   93      8\n1  983  16121",
      "text/html": "<div>\n<style scoped>\n    .dataframe tbody tr th:only-of-type {\n        vertical-align: middle;\n    }\n\n    .dataframe tbody tr th {\n        vertical-align: top;\n    }\n\n    .dataframe thead th {\n        text-align: right;\n    }\n</style>\n<table border=\"1\" class=\"dataframe\">\n  <thead>\n    <tr style=\"text-align: right;\">\n      <th></th>\n      <th>0</th>\n      <th>1</th>\n    </tr>\n  </thead>\n  <tbody>\n    <tr>\n      <th>0</th>\n      <td>93</td>\n      <td>8</td>\n    </tr>\n    <tr>\n      <th>1</th>\n      <td>983</td>\n      <td>16121</td>\n    </tr>\n  </tbody>\n</table>\n</div>"
     },
     "execution_count": 16,
     "metadata": {},
     "output_type": "execute_result"
    }
   ],
   "source": [
    "# Display the confusion matrix\n",
    "pd.DataFrame(confusion_matrix(y_test, y_pred, normalize=None))"
   ],
   "metadata": {
    "collapsed": false,
    "pycharm": {
     "name": "#%%\n"
    }
   }
  },
  {
   "cell_type": "code",
   "execution_count": 17,
   "outputs": [
    {
     "data": {
      "text/plain": "<Figure size 432x288 with 2 Axes>",
      "image/png": "[encoded data removed]"
     },
     "metadata": {
      "needs_background": "light"
     },
     "output_type": "display_data"
    }
   ],
   "source": [
    "disp = ConfusionMatrixDisplay.from_predictions(\n",
    "    y_test, y_pred, cmap=\"Blues\", values_format=\"d\"\n",
    ")\n",
    "plt.show()"
   ],
   "metadata": {
    "collapsed": false,
    "pycharm": {
     "name": "#%%\n"
    }
   }
  },
  {
   "cell_type": "code",
   "execution_count": 18,
   "outputs": [
    {
     "name": "stdout",
     "output_type": "stream",
     "text": [
      "                   pre       rec       spe        f1       geo       iba       sup\n",
      "\n",
      "  high_risk       0.09      0.92      0.94      0.16      0.93      0.87       101\n",
      "   low_risk       1.00      0.94      0.92      0.97      0.93      0.87     17104\n",
      "\n",
      "avg / total       0.99      0.94      0.92      0.97      0.93      0.87     17205\n",
      "\n"
     ]
    }
   ],
   "source": [
    "# Print the imbalanced classification report\n",
    "print(classification_report_imbalanced(y_test, y_pred))"
   ],
   "metadata": {
    "collapsed": false,
    "pycharm": {
     "name": "#%%\n"
    }
   }
  }
 ],
 "metadata": {
  "colab": {
   "collapsed_sections": [],
   "name": "credit_risk_ensemble_starter_code.ipynb",
   "provenance": []
  },
  "kernelspec": {
   "display_name": "Python3.10",
   "language": "python",
   "name": "python3.10"
  },
  "language_info": {
   "codemirror_mode": {
    "name": "ipython",
    "version": 3
   },
   "file_extension": ".py",
   "mimetype": "text/x-python",
   "name": "python",
   "nbconvert_exporter": "python",
   "pygments_lexer": "ipython3",
   "version": "3.10.0"
  }
 },
 "nbformat": 4,
 "nbformat_minor": 1
}